{
 "cells": [
  {
   "cell_type": "markdown",
   "metadata": {},
   "source": [
    "![title](img/header.png)"
   ]
  },
  {
   "cell_type": "code",
   "execution_count": 23,
   "metadata": {},
   "outputs": [
    {
     "name": "stdout",
     "output_type": "stream",
     "text": [
      "     Object   X_value   Y_value\n",
      "0  Object 1  1.005079  4.594642\n",
      "1  Object 2  1.128478  4.328122\n",
      "2  Object 3  2.117881  0.726845\n",
      "3  Object 4  0.955626  4.385907\n",
      "4  Object 5 -1.354017  2.769449\n"
     ]
    }
   ],
   "source": [
    "import numpy as np\n",
    "# Imports\n",
    "from sklearn.datasets.samples_generator import make_blobs\n",
    "\n",
    "# Generate 2D data points\n",
    "X, _ = make_blobs(n_samples=10, centers=3, n_features=2,\n",
    "                 cluster_std=0.2,  random_state=0)\n",
    "\n",
    "# Convert the data points into a pandas DataFrame\n",
    "import pandas as pd\n",
    "\n",
    "# Generate indicators for the data points\n",
    "obj_names = []\n",
    "for i in range(1, 11):\n",
    "    obj = \"Object \" + str(i)\n",
    "    obj_names.append(obj)\n",
    "\n",
    "# Create a pandas DataFrame with the names and (x, y) coordinates\n",
    "data = pd.DataFrame({\n",
    "    'Object': obj_names,\n",
    "    'X_value': X[:, 0],\n",
    "    'Y_value': X[:, -1]\n",
    "})\n",
    "\n",
    "# Preview the data\n",
    "print(data.head())"
   ]
  },
  {
   "cell_type": "code",
   "execution_count": 24,
   "metadata": {
    "collapsed": true
   },
   "outputs": [],
   "source": [
    "# Initialize the centroids\n",
    "c1 = (-1, 4)\n",
    "c2 = (-0.2, 1.5)\n",
    "c3 = (2, 2.5)"
   ]
  },
  {
   "cell_type": "code",
   "execution_count": 25,
   "metadata": {
    "collapsed": true
   },
   "outputs": [],
   "source": [
    "# A helper function to calculate the Euclidean diatance between the data \n",
    "# points and the centroids\n",
    "\n",
    "def calculate_distance(centroid, X, Y):\n",
    "    distances = []\n",
    "        \n",
    "    # Unpack the x and y coordinates of the centroid\n",
    "    c_x, c_y = centroid\n",
    "        \n",
    "    # Iterate over the data points and calculate the distance using the           # given formula\n",
    "    for x, y in list(zip(X, Y)):\n",
    "        root_diff_x = (x - c_x) ** 2\n",
    "        root_diff_y = (y - c_y) ** 2\n",
    "        distance = np.sqrt(root_diff_x + root_diff_y)\n",
    "        distances.append(distance)\n",
    "        \n",
    "    return distances"
   ]
  },
  {
   "cell_type": "code",
   "execution_count": 26,
   "metadata": {},
   "outputs": [
    {
     "name": "stdout",
     "output_type": "stream",
     "text": [
      "     Object   X_value   Y_value  C1_Distance  C2_Distance  C3_Distance\n",
      "0  Object 1  1.005079  4.594642     2.091397     3.320997     2.318921\n",
      "1  Object 2  1.128478  4.328122     2.153620     3.124601     2.025236\n",
      "2  Object 3  2.117881  0.726845     4.520479     2.443428     1.777070\n",
      "3  Object 4  0.955626  4.385907     1.993339     3.108686     2.155774\n",
      "4  Object 5 -1.354017  2.769449     1.280462     1.715592     3.364823\n"
     ]
    }
   ],
   "source": [
    "# Calculate the distance and assign them to the DataFrame accordingly\n",
    "data['C1_Distance'] = calculate_distance(c1, data.X_value, data.Y_value)\n",
    "data['C2_Distance'] = calculate_distance(c2, data.X_value, data.Y_value)\n",
    "data['C3_Distance'] = calculate_distance(c3, data.X_value, data.Y_value)\n",
    "\n",
    "# Preview the data\n",
    "print(data.head())"
   ]
  },
  {
   "cell_type": "code",
   "execution_count": 39,
   "metadata": {},
   "outputs": [
    {
     "name": "stdout",
     "output_type": "stream",
     "text": [
      "      Object   X_value   Y_value  C1_Distance  C2_Distance  C3_Distance  \\\n",
      "0   Object 1  1.005079  4.594642     2.091397     3.320997     2.318921   \n",
      "1   Object 2  1.128478  4.328122     2.153620     3.124601     2.025236   \n",
      "2   Object 3  2.117881  0.726845     4.520479     2.443428     1.777070   \n",
      "3   Object 4  0.955626  4.385907     1.993339     3.108686     2.155774   \n",
      "4   Object 5 -1.354017  2.769449     1.280462     1.715592     3.364823   \n",
      "5   Object 6 -1.072953  2.627009     1.374928     1.425551     3.075577   \n",
      "6   Object 7 -2.037502  3.048606     1.407679     2.403038     4.074603   \n",
      "7   Object 8  2.354083  0.856632     4.596807     2.633869     1.681081   \n",
      "8   Object 9  2.144040  0.964399     4.370339     2.404453     1.542342   \n",
      "9  Object 10  1.166288  4.273516     2.183487     3.091785     1.959703   \n",
      "\n",
      "  Cluster  \n",
      "0      C1  \n",
      "1      C3  \n",
      "2      C3  \n",
      "3      C1  \n",
      "4      C1  \n",
      "5      C1  \n",
      "6      C1  \n",
      "7      C3  \n",
      "8      C3  \n",
      "9      C3  \n"
     ]
    },
    {
     "name": "stderr",
     "output_type": "stream",
     "text": [
      "E:\\InstalledC\\Anaconda3\\lib\\site-packages\\numpy\\core\\fromnumeric.py:61: FutureWarning: \n",
      "The current behaviour of 'Series.argmin' is deprecated, use 'idxmin'\n",
      "instead.\n",
      "The behavior of 'argmin' will be corrected to return the positional\n",
      "minimum in the future. For now, use 'series.values.argmin' or\n",
      "'np.argmin(np.array(values))' to get the position of the minimum\n",
      "row.\n",
      "  return bound(*args, **kwds)\n"
     ]
    }
   ],
   "source": [
    "# Get the minimum distance centroids\n",
    "data['Cluster'] = data[['C1_Distance', 'C2_Distance', 'C3_Distance']].apply(np.argmin, axis =1)\n",
    "#data['Cluster'] = data[['C1_Distance', 'C2_Distance', 'C3_Distance']].argmin\n",
    "\n",
    "# Map the centroids accordingly and rename them\n",
    "data['Cluster'] = data['Cluster'].map({'C1_Distance': 'C1', 'C2_Distance': 'C2', 'C3_Distance': 'C3'})\n",
    "    \n",
    "# Get a preview of the data\n",
    "print(data.head(10))\n"
   ]
  },
  {
   "cell_type": "code",
   "execution_count": 30,
   "metadata": {},
   "outputs": [
    {
     "name": "stdout",
     "output_type": "stream",
     "text": [
      "Centroid 1 (-0.500753347459331, 3.4851226841526897)\n",
      "Centroid 2 (1.7821539902873855, 2.2299026522421928)\n"
     ]
    }
   ],
   "source": [
    "# Calculate the coordinates of the new centroid from cluster 1\n",
    "x_new_centroid1 = data[data['Cluster']=='C1']['X_value'].mean()\n",
    "y_new_centroid1 = data[data['Cluster']=='C1']['Y_value'].mean()\n",
    "\n",
    "# Calculate the coordinates of the new centroid from cluster 2\n",
    "x_new_centroid2 = data[data['Cluster']=='C3']['X_value'].mean()\n",
    "y_new_centroid2 = data[data['Cluster']=='C3']['Y_value'].mean()\n",
    "\n",
    "# Print the coordinates of the new centroids\n",
    "print('Centroid 1 ({}, {})'.format(x_new_centroid1, y_new_centroid1))\n",
    "print('Centroid 2 ({}, {})'.format(x_new_centroid2, y_new_centroid2))"
   ]
  },
  {
   "cell_type": "code",
   "execution_count": 31,
   "metadata": {
    "collapsed": true
   },
   "outputs": [],
   "source": [
    "# Using scikit-learn to perform K-Means clustering\n",
    "from sklearn.cluster import KMeans\n",
    "    \n",
    "# Specify the number of clusters (3) and fit the data X\n",
    "kmeans = KMeans(n_clusters=3, random_state=0).fit(X)"
   ]
  },
  {
   "cell_type": "code",
   "execution_count": 32,
   "metadata": {},
   "outputs": [
    {
     "name": "stdout",
     "output_type": "stream",
     "text": [
      "[[-1.48815728  2.81502145]\n",
      " [ 2.20533486  0.84929168]\n",
      " [ 1.06386762  4.39554682]]\n",
      "[2 2 1 2 0 0 0 1 1 2]\n"
     ]
    }
   ],
   "source": [
    "# Get the cluster centroids\n",
    "print(kmeans.cluster_centers_)\n",
    "    \n",
    "# Get the cluster labels\n",
    "print(kmeans.labels_)"
   ]
  },
  {
   "cell_type": "code",
   "execution_count": 34,
   "metadata": {},
   "outputs": [
    {
     "data": {
      "image/png": "[encoded data removed]",
      "text/plain": [
       "<Figure size 432x288 with 1 Axes>"
      ]
     },
     "metadata": {},
     "output_type": "display_data"
    }
   ],
   "source": [
    "# Plotting the cluster centers and the data points on a 2D plane\n",
    "import matplotlib.pyplot as plt\n",
    "plt.scatter(X[:, 0], X[:, -1])\n",
    "    \n",
    "plt.scatter(kmeans.cluster_centers_[:, 0], kmeans.cluster_centers_[:, 1], c='red', marker='x')\n",
    "    \n",
    "plt.title('Data points and cluster centroids')\n",
    "plt.show()"
   ]
  },
  {
   "cell_type": "code",
   "execution_count": 35,
   "metadata": {},
   "outputs": [
    {
     "name": "stdout",
     "output_type": "stream",
     "text": [
      "0.8810668519873335\n"
     ]
    }
   ],
   "source": [
    "# Calculate silhouette_score\n",
    "from sklearn.metrics import silhouette_score\n",
    "\n",
    "print(silhouette_score(X, kmeans.labels_))"
   ]
  },
  {
   "cell_type": "markdown",
   "metadata": {
    "collapsed": true
   },
   "source": [
    "![title](img/thumbs-up.png)"
   ]
  }
 ],
 "metadata": {
  "kernelspec": {
   "display_name": "Python 3",
   "language": "python",
   "name": "python3"
  },
  "language_info": {
   "codemirror_mode": {
    "name": "ipython",
    "version": 3
   },
   "file_extension": ".py",
   "mimetype": "text/x-python",
   "name": "python",
   "nbconvert_exporter": "python",
   "pygments_lexer": "ipython3",
   "version": "3.6.9"
  }
 },
 "nbformat": 4,
 "nbformat_minor": 2
}
